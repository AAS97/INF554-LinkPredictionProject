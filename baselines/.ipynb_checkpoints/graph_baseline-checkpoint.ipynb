{
 "cells": [
  {
   "cell_type": "code",
   "execution_count": null,
   "metadata": {
    "cell_style": "center"
   },
   "outputs": [
    {
     "name": "stdout",
     "output_type": "stream",
     "text": [
      "283623\n"
     ]
    }
   ],
   "source": [
    "import networkx as nx\n",
    "import csv\n",
    "\n",
    "# First read and create the graph using the training dataset\n",
    "G = nx.Graph()\n",
    "with open(\"../data/training.txt\", \"r\") as f:\n",
    "    for line in f:\n",
    "        line = line.split()\n",
    "        if line[2] == '1':\n",
    "            G.add_edge(line[0], line[1])\n",
    "\n",
    "print(G.size())          \n",
    "nx.draw(G)\n",
    "plt.show()\n",
    "predictions = []\n",
    "# For each edge on the testing dataset calculate the jaccard coefficient and use a threshold to decide\n",
    "with open(\"../data/testing.txt\", \"r\") as f:\n",
    "    for line in f:\n",
    "        line = line.split()\n",
    "        coef = [[u, v, p]for u, v, p in nx.jaccard_coefficient(G, [(line[0], line[1])])][0]\n",
    "        if  coef[2] > 0.005:\n",
    "            predictions.append(\"1\")\n",
    "        else:\n",
    "            predictions.append(\"0\")\n",
    "\n",
    "predictions = zip(range(len(predictions)), predictions)\n",
    "# Write the output in the format required by Kaggle\n",
    "with open(\"jaccard_predictions.csv\",\"w\") as pred:\n",
    "    csv_out = csv.writer(pred)\n",
    "    csv_out.writerow(['id','predicted'])\n",
    "    for row in predictions:\n",
    "        csv_out.writerow(row) \n"
   ]
  },
  {
   "cell_type": "code",
   "execution_count": null,
   "metadata": {},
   "outputs": [],
   "source": []
  }
 ],
 "metadata": {
  "anaconda-cloud": {},
  "kernelspec": {
   "display_name": "Python 3",
   "language": "python",
   "name": "python3"
  },
  "language_info": {
   "codemirror_mode": {
    "name": "ipython",
    "version": 3
   },
   "file_extension": ".py",
   "mimetype": "text/x-python",
   "name": "python",
   "nbconvert_exporter": "python",
   "pygments_lexer": "ipython3",
   "version": "3.7.5"
  },
  "toc": {
   "base_numbering": 1,
   "nav_menu": {},
   "number_sections": true,
   "sideBar": true,
   "skip_h1_title": false,
   "title_cell": "Table of Contents",
   "title_sidebar": "Contents",
   "toc_cell": false,
   "toc_position": {},
   "toc_section_display": true,
   "toc_window_display": false
  }
 },
 "nbformat": 4,
 "nbformat_minor": 1
}
